{
 "cells": [
  {
   "cell_type": "code",
   "execution_count": 15,
   "metadata": {},
   "outputs": [],
   "source": [
    "import numpy as np\n",
    "import sys\n",
    "import math\n",
    "import matplotlib.pyplot as plt\n",
    "from matplotlib.patches import Polygon"
   ]
  },
  {
   "cell_type": "code",
   "execution_count": 16,
   "metadata": {},
   "outputs": [],
   "source": [
    "class Point:\n",
    "    def __init__(self, x, y):\n",
    "        \"\"\"Defines a point using its physical space coordinates\"\"\"\n",
    "        self.x = x\n",
    "        self.y = y\n",
    "        self.hc = self.get_hc()\n",
    "    @classmethod\n",
    "    def from_hc(cls, hc):\n",
    "        \"\"\"Defines a point from its representation in homogeneous coordinates\"\"\"\n",
    "        if np.isclose(hc[2],0):\n",
    "            x = hc[0]\n",
    "            y = hc[1]\n",
    "        else:\n",
    "            x = hc[0] / hc[2]\n",
    "            y = hc[1] / hc[2]\n",
    "        return cls(x, y)\n",
    "    def get_hc(self):\n",
    "        \"\"\"Returns the point in homogeneous coordinates\"\"\"\n",
    "        return np.array([self.x, self.y, 1])\n",
    "    def __str__(self):\n",
    "        \"\"\"To string method for debugging\"\"\"\n",
    "        return f\"Point(x={self.x}, y={self.y}, hc={self.hc})\""
   ]
  },
  {
   "cell_type": "code",
   "execution_count": 17,
   "metadata": {},
   "outputs": [],
   "source": [
    "class Line():\n",
    "    def __init__(self, point1, point2):\n",
    "        \"\"\"Defines a line that passes through 2 points in the physical space\"\"\"\n",
    "        assert isinstance(point1, Point) and isinstance(point2, Point), \"A line should be created by 2 Points, or by its angle to the x-axis\"\n",
    "        self.hc = self.get_hc(point1, point2)\n",
    "    @classmethod\n",
    "    def from_angle(cls, angle, y_int):\n",
    "        \"\"\"Defines a line by its angle to the x-axis and y intercept\"\"\"\n",
    "        intercept = Point(0, y_int) # Point1 is defined by the y-intercept\n",
    "        point2 = Point(1, y_int + math.tan(math.radians(angle))) # Point 2 is the point on the line at x=1\n",
    "        return cls(intercept, point2)\n",
    "    def get_hc(self, point1, point2):\n",
    "        \"\"\"Returns the line in homogeneous coordinates\"\"\"\n",
    "        slope = (point2.y - point1.y) / (point2.x - point1.x)\n",
    "        c = point2.y - slope * point2.x\n",
    "        return np.array([-slope, 1, -c])\n",
    "    def __str__(self):\n",
    "        return f\"Line(algebraic={self.hc[1]} * y = {-self.hc[0]} * x + {-self.hc[2]}, hc={self.hc})\""
   ]
  },
  {
   "cell_type": "code",
   "execution_count": 65,
   "metadata": {},
   "outputs": [],
   "source": [
    "inputs = [\"(3,5)\", \"(5,3)\", \"(7,5)\", 45]\n",
    "# inputs = [\"(-3,-5)\", \"(-5,-3)\", \"(-7,-5)\", -135]\n",
    "# inputs = [\"(-8.76, 9.12)\", \"(-9.31, 6.58)\", \"(-7.25, 8.47)\", -22.7]\n",
    "# inputs = [\"(0.5, -1)\", \"(4, -8)\", \"(5, -7.5)\", 300]"
   ]
  },
  {
   "cell_type": "code",
   "execution_count": 66,
   "metadata": {},
   "outputs": [
    {
     "name": "stdout",
     "output_type": "stream",
     "text": [
      "Success, you have hit the target!\n"
     ]
    },
    {
     "data": {
      "image/png": "[encoded data removed]",
      "text/plain": [
       "<Figure size 640x480 with 1 Axes>"
      ]
     },
     "metadata": {},
     "output_type": "display_data"
    }
   ],
   "source": [
    "# Read arguments for triangle points & laser angle\n",
    "triangle_points = []\n",
    "for i in range(3):\n",
    "    point_string = inputs[i].strip(\"()\")\n",
    "    x_str, y_str = point_string.split(\",\")\n",
    "    triangle_points.append(Point(float(x_str), float(y_str)))\n",
    "aiming_angle = inputs[3]\n",
    "\n",
    "# Create laser line in hc\n",
    "laser = Line.from_angle(aiming_angle, 0)\n",
    "\n",
    "# Convert 2 triangle edges in hc\n",
    "edge1 = Line(triangle_points[0], triangle_points[1])\n",
    "edge2 = Line(triangle_points[1], triangle_points[2])\n",
    "\n",
    "# Find the intersections:\n",
    "intersect1_hc = np.cross(laser.hc, edge1.hc)\n",
    "intersect2_hc = np.cross(laser.hc, edge2.hc)\n",
    "p_of_int1 = Point.from_hc(intersect1_hc)\n",
    "p_of_int2 = Point.from_hc(intersect2_hc)\n",
    "\n",
    "# Check that the intersection fits within the domain defined by the triangle\n",
    "# If the point of intersection fits, then print and exit, else keep look at the other edge\n",
    "if p_of_int1.x < max(triangle_points[0].x, triangle_points[1].x) and p_of_int1.x > min(triangle_points[0].x, triangle_points[1].x):\n",
    "    if p_of_int1.y < max(triangle_points[0].y, triangle_points[1].y) and p_of_int1.y > min(triangle_points[0].y, triangle_points[1].y):\n",
    "        print(\"Success, you have hit the target!\")\n",
    "    else:\n",
    "        pass\n",
    "if p_of_int2.x < max(triangle_points[1].x, triangle_points[2].x) and p_of_int2.x > min(triangle_points[1].x, triangle_points[2].x):\n",
    "    if p_of_int2.y < max(triangle_points[1].y, triangle_points[2].y) and p_of_int2.y > min(triangle_points[1].y, triangle_points[2].y):\n",
    "        print(\"Success, you have hit the target!\")\n",
    "    else:\n",
    "        print(\"Oh no, you missed the target!\")\n",
    "else:\n",
    "    print(\"Oh no, you missed the target!\")\n",
    "\n",
    "\n",
    "# The following visualization is inspired by the resource included below: \n",
    "# https://stackoverflow.com/questions/44397105/how-to-draw-a-triangle-using-matplotlib-pyplot-based-on-3-dots-x-y-in-2d\n",
    "\n",
    "# Generate values for the laser\n",
    "x_values = np.linspace(-10, 10, 400)\n",
    "y_values = -laser.hc[0] * x_values - laser.hc[2]\n",
    "\n",
    "# Define the vertices of the triangle\n",
    "triangle_vertices = np.array([triangle_points[0].hc[:2], triangle_points[1].hc[:2], triangle_points[2].hc[:2]])\n",
    "\n",
    "# Generate the plot with the laser and triangle\n",
    "fig, ax = plt.subplots()\n",
    "ax.plot(x_values, y_values, \"r\", label=\"laser\")\n",
    "triangle = Polygon(triangle_vertices, closed=True, color=\"grey\", alpha=0.5, label=\"target\")\n",
    "ax.add_patch(triangle)\n",
    "\n",
    "# Organize visualization\n",
    "ax.set_xlim(-10, 10)\n",
    "ax.set_ylim(-10, 10)\n",
    "ax.grid(True)\n",
    "ax.legend()\n",
    "plt.show()\n"
   ]
  },
  {
   "cell_type": "code",
   "execution_count": null,
   "metadata": {},
   "outputs": [],
   "source": []
  }
 ],
 "metadata": {
  "kernelspec": {
   "display_name": "dfrvl_cuda",
   "language": "python",
   "name": "python3"
  },
  "language_info": {
   "codemirror_mode": {
    "name": "ipython",
    "version": 3
   },
   "file_extension": ".py",
   "mimetype": "text/x-python",
   "name": "python",
   "nbconvert_exporter": "python",
   "pygments_lexer": "ipython3",
   "version": "3.8.1"
  }
 },
 "nbformat": 4,
 "nbformat_minor": 2
}
