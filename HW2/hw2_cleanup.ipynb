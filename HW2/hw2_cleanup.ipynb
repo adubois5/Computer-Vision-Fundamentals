{
 "cells": [
  {
   "cell_type": "markdown",
   "metadata": {},
   "source": [
    "# Source code\n",
    "Important Notice:  \n",
    "\n",
    "To keep the size of the document low, the following code only includes the functions that I implemented and the point measurements. I have included my complete (non-cleaned up) python notebook with all outputs in my submission as well for your convenience."
   ]
  },
  {
   "cell_type": "code",
   "execution_count": 78,
   "metadata": {},
   "outputs": [],
   "source": [
    "import numpy as np\n",
    "import cv2\n",
    "import math\n",
    "import matplotlib.pyplot as plt"
   ]
  },
  {
   "cell_type": "code",
   "execution_count": 4,
   "metadata": {},
   "outputs": [],
   "source": [
    "class Point:\n",
    "    def __init__(self, x, y):\n",
    "        \"\"\"Defines a point using its physical space coordinates\"\"\"\n",
    "        self.x = x\n",
    "        self.y = y\n",
    "        self.hc = self.get_hc()\n",
    "    @classmethod\n",
    "    def from_hc(cls, hc):\n",
    "        \"\"\"Defines a point from its representation in homogeneous coordinates\"\"\"\n",
    "        if np.isclose(hc[2],0):\n",
    "            x = hc[0]\n",
    "            y = hc[1]\n",
    "        else:\n",
    "            x = hc[0] / hc[2]\n",
    "            y = hc[1] / hc[2]\n",
    "        return cls(x, y)\n",
    "    def get_hc(self):\n",
    "        \"\"\"Returns the point in homogeneous coordinates\"\"\"\n",
    "        return np.array([self.x, self.y, 1])\n",
    "    def __repr__(self):\n",
    "        \"\"\"To string method for debugging\"\"\"\n",
    "        return f\"Point(x={self.x}, y={self.y}, hc={self.hc})\""
   ]
  },
  {
   "cell_type": "code",
   "execution_count": 93,
   "metadata": {},
   "outputs": [],
   "source": [
    "class Homography():\n",
    "    def __init__(self):\n",
    "        pass\n",
    "    def get_first_six_cols(self, x_points):\n",
    "        zero_vec = np.zeros(3)\n",
    "        eqn1_first6cols = np.vstack([np.hstack((point.get_hc(), zero_vec)) for point in x_points])\n",
    "        eqn2_first6cols = np.vstack([np.hstack((zero_vec, point.get_hc())) for point in x_points])\n",
    "        return np.vstack([[eqn1, eqn2] for eqn1, eqn2 in zip(eqn1_first6cols, eqn2_first6cols)]) # Stack the rows in an interleaved fashion\n",
    "        \n",
    "    def estimate_projective_homography(self, x_points, x_prime_points):\n",
    "        # Lets build the first 6 columns of the matrix we are interested in:\n",
    "        first6cols = self.get_first_six_cols(x_points)\n",
    "        \n",
    "        # Now we only need the last 2 columns\n",
    "        # x' is in the shape: x1' y1' 1, x2' y2' 1 etc\n",
    "        # x is: x1 y1 1, x2 y2 1, ...\n",
    "        # So we take the outer product of the first two elements in the homogeneous form to get the remaining portion:\n",
    "        last2cols_list = []\n",
    "        for x, x_prime in zip(x_prime_points, x_points):\n",
    "            last2cols_list.append(-np.outer(x.get_hc()[:2], x_prime.get_hc()[:2]))\n",
    "        last2cols = np.vstack(last2cols_list)\n",
    "        full_matrix = np.hstack((first6cols, last2cols))\n",
    "        \n",
    "        x_prime_matrix = np.vstack([np.vstack((x_prime.get_hc()[0], x_prime.get_hc()[1])) for x_prime in x_prime_points])\n",
    "        H = np.matmul(np.linalg.inv(full_matrix), x_prime_matrix)\n",
    "        H = np.vstack((H, np.array(1))).reshape((3,3))\n",
    "        return H\n",
    "    \n",
    "    def estimate_affine_homography(self, x_points, x_prime_points):\n",
    "        # ONly 3 points are needed\n",
    "        x_points = x_points[:3]\n",
    "        x_prime_points = x_prime_points[:3]\n",
    "        \n",
    "        # Get first 6 columns similar to the general projective homography\n",
    "        # However, in the case of an affine matrix, we only need those 6 columns\n",
    "        full_matrix = self.get_first_six_cols(x_points)\n",
    "        \n",
    "        # Create x' matrix: [x_1', y_1', x_2', y_2', ...]\n",
    "        x_prime_matrix = np.vstack([np.vstack((x_prime.get_hc()[0], x_prime.get_hc()[1])) for x_prime in x_prime_points])\n",
    "        \n",
    "        H = np.matmul(np.linalg.inv(full_matrix), x_prime_matrix)\n",
    "        last_row = np.array((0, 0, 1)).reshape(-1, 1)\n",
    "        H = np.vstack((H, last_row)).reshape((3,3))\n",
    "        return H\n",
    "\n",
    "    # Used for the bonus. Explanations of the code are included in my report\n",
    "    def get_normalizing_homography(self, image):\n",
    "        h, w = image.shape[:2]\n",
    "        print(h, w)\n",
    "        H_norm = [2/w, 0, -1, 0, 2/h, -1, 0, 0, 1]\n",
    "        H_norm = np.array(H_norm, dtype=np.float32).reshape((3,3))\n",
    "        return H_norm\n",
    "    def get_denormalizing_homography(self, image):\n",
    "        h, w = image.shape[:2]\n",
    "        H_norm = [w/2, 0, w/2, 0, h/2, h/2, 0, 0, 1]\n",
    "        H_norm = np.array(H_norm, dtype=np.float32).reshape((3,3))\n",
    "        return H_norm\n",
    "    def get_rotational_homography(self, alpha):\n",
    "        H_rot = [math.cos(alpha), -math.sin(alpha), 0, math.sin(alpha), math.cos(alpha), 0, 0, 0, 1]\n",
    "        H_rot = np.array(H_rot, dtype=np.float32).reshape((3,3))\n",
    "        return H_rot\n",
    "    def get_horizontal_tilt_homography(self, alpha):\n",
    "        H = [1,0,0,0,1,0, math.cos(alpha),0,1]\n",
    "        H = np.array(H, dtype=np.float32).reshape((3,3))\n",
    "        return H\n",
    "    def get_vertical_tilt_homography(self, alpha):\n",
    "        H = [1,0,0,0,1,0,0,math.sin(alpha), 1]\n",
    "        H = np.array(H, dtype=np.float32).reshape((3,3))\n",
    "        return H    "
   ]
  },
  {
   "cell_type": "code",
   "execution_count": 7,
   "metadata": {},
   "outputs": [],
   "source": [
    "def reverseMapHomography(source_img, homography, target_size):\n",
    "    new_image = np.zeros((target_size[0], target_size[1], source_img.shape[2]), dtype=source_img.dtype)\n",
    "    H_inv = np.linalg.inv(homography)\n",
    "    \n",
    "    # cv2 is in (y,x) format\n",
    "    for i in range(target_size[0]):\n",
    "        for j in range(target_size[1]):\n",
    "            target_hccoord = np.array((j,i,1))\n",
    "            \n",
    "            # Find the corresponding coordinate from the image I want to map over\n",
    "            src_hccoord = np.matmul(H_inv, target_hccoord)\n",
    "            src_hccoord = (src_hccoord/src_hccoord[2]).astype(int) # ensure x_3 = 1\n",
    "            \n",
    "            if 0 <= src_hccoord[0] < source_img.shape[1] and 0 <= src_hccoord[1] < source_img.shape[0]:\n",
    "                new_image[i,j] = source_img[src_hccoord[1], src_hccoord[0]]\n",
    "    return new_image"
   ]
  },
  {
   "cell_type": "code",
   "execution_count": 8,
   "metadata": {},
   "outputs": [],
   "source": [
    "def mapHomography(source_img, homography, target_size):\n",
    "    new_image = np.zeros((target_size[0], target_size[1], source_img.shape[2]), dtype=source_img.dtype)\n",
    "    \n",
    "    for i in range(source_img.shape[0]):\n",
    "        for j in range(source_img.shape[1]):\n",
    "            curr_hc_coord = np.array((j, i, 1))\n",
    "            \n",
    "            new_hc_coord = np.dot(homography, curr_hc_coord)\n",
    "            new_hc_coord = (new_hc_coord/new_hc_coord[2]).astype(int) # Ensure x_3 = 1\n",
    "            \n",
    "            # Check x and y bounds:\n",
    "            if 0 <= new_hc_coord[0] < target_size[1] and 0 <= new_hc_coord[1] < target_size[0]:\n",
    "                new_image[new_hc_coord[1]][new_hc_coord[0]] = source_img[i][j]\n",
    "    \n",
    "    return new_image"
   ]
  },
  {
   "cell_type": "code",
   "execution_count": 9,
   "metadata": {},
   "outputs": [],
   "source": [
    "def map_image1_onto_roi_on_image2_inrgb(source_img, target_img, target_roi, homography):\n",
    "    # This function is used to map the photo of Alex onto the ROI in the frame-photo\n",
    "    # Warp the alex image following the previously calculated homography\n",
    "    warped_alex = reverseMapHomography(source_img, homography, target_img.shape)\n",
    "    \n",
    "    # Create a mask of the polygon created by the image frame that I want to cover\n",
    "    # I will keep the area outside of the mask\n",
    "    # Note: cv2 polygons only accept integer pixels:\n",
    "    polygon_coords = np.array([[int(x), int(y)] for x,y in target_roi], dtype=np.int32)\n",
    "    mask = np.zeros_like(target_img, dtype=np.uint8)\n",
    "    cv2.fillPoly(mask, [polygon_coords], (255, 255, 255))\n",
    "\n",
    "    # Remove the frame portion from the image\n",
    "    mask_inv = cv2.bitwise_not(mask)\n",
    "    img_background = cv2.bitwise_and(target_img, mask_inv)\n",
    "\n",
    "    # Add the Alex photo in with projective transformation warping in\n",
    "    final_image = cv2.add(img_background, cv2.bitwise_and(warped_alex, mask))\n",
    "\n",
    "    # Convert the image to RGB for matplotlib\n",
    "    final_rgb_image = cv2.cvtColor(final_image, cv2.COLOR_BGR2RGB)\n",
    "    return final_rgb_image\n"
   ]
  },
  {
   "cell_type": "markdown",
   "metadata": {},
   "source": [
    "Point measurements for given images"
   ]
  },
  {
   "cell_type": "code",
   "execution_count": 3,
   "metadata": {},
   "outputs": [],
   "source": [
    "img1_pixel_coords = [(420.590909090909, 841.6818181818182), (2558.772727272728, 874.409090909091), (2416.954545454546, 2270.7727272727275), (682.409090909091, 3154.4090909090914)]\n",
    "img2_pixel_coords = [(518.772727272727, 1430.7727272727275), (1871.5000000000005, 830.7727272727275), (1958.7727272727275, 2805.318181818182), (464.2272727272725, 2674.409090909091)]\n",
    "img3_pixel_coords = [(1216.9545454545455, 538.4090909090905), (2973.318181818182, 2305.681818181818), (1806.045454545455, 3178.409090909091), (256.9545454545455, 1814.772727272727)]\n",
    "alex_pixel_coords = [(126.51136363636363, 201.73484848484838), (689.6742424242425, 68.59090909090901), (698.6704545454545, 638.9507575757575), (133.70833333333331, 629.9545454545455)]"
   ]
  },
  {
   "cell_type": "markdown",
   "metadata": {},
   "source": [
    "Point measurements for my images"
   ]
  },
  {
   "cell_type": "code",
   "execution_count": 39,
   "metadata": {},
   "outputs": [],
   "source": [
    "myimg1_pixel_coords = [(86.69264069264068, 150.39393939393938), (555.3073593073593, 141.02164502164499), (524.8474025974026, 766.6222943722944), (121.83874458874459, 745.5346320346321)]\n",
    "myimg2_pixel_coords = [(194.09090909090907, 23.811688311688158), (458.24675324675337, 182.77272727272714), (486.29870129870136, 624.590909090909), (135.64935064935065, 603.551948051948)]\n",
    "myimg3_pixel_coords = [(31.458874458874448, 368.29978354978357), (603.168831168831, 431.56277056277054), (389.94913419913416, 787.7099567099567), (47.86038961038963, 799.4253246753248)]\n",
    "myimg4_pixel_coords = [(195.10768398268402, 165.05681818181802), (426.9799783549784, 37.52705627705609), (426.9799783549784, 777.1996753246754), (222.93235930735938, 619.5265151515152)]\n",
    "el_cap_pixel_coords = [(76.9193548387097, 114.38709677419342), (546.5967741935484, 181.48387096774195), (670.4677419354838, 1027.9354838709678), (92.40322580645164, 1089.8709677419356)]"
   ]
  },
  {
   "cell_type": "code",
   "execution_count": null,
   "metadata": {},
   "outputs": [],
   "source": []
  }
 ],
 "metadata": {
  "kernelspec": {
   "display_name": "ece661",
   "language": "python",
   "name": "python3"
  },
  "language_info": {
   "codemirror_mode": {
    "name": "ipython",
    "version": 3
   },
   "file_extension": ".py",
   "mimetype": "text/x-python",
   "name": "python",
   "nbconvert_exporter": "python",
   "pygments_lexer": "ipython3",
   "version": "3.8.19"
  }
 },
 "nbformat": 4,
 "nbformat_minor": 2
}
