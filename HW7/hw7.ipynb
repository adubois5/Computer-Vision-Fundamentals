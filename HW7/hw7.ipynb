{
 "cells": [
  {
   "cell_type": "code",
   "execution_count": 22,
   "metadata": {},
   "outputs": [],
   "source": [
    "import cv2\n",
    "import numpy as np\n",
    "import matplotlib.pyplot as plt\n",
    "import seaborn as sns\n",
    "from tqdm import tqdm\n",
    "import pandas as pd\n",
    "from BitVector import BitVector\n",
    "import os\n",
    "from sklearn.svm import SVC\n",
    "from sklearn.metrics import classification_report, accuracy_score, confusion_matrix\n",
    "import re\n",
    "import pickle\n",
    "from vgg_and_resnet import *\n",
    "import torch.nn.functional as F"
   ]
  },
  {
   "cell_type": "code",
   "execution_count": 6,
   "metadata": {},
   "outputs": [],
   "source": [
    "def img_BGR_to_HSV(img):\n",
    "    img = img.astype(np.float32)\n",
    "    img_hsv = np.zeros_like(img)\n",
    "    \n",
    "    # Calculate key parameters through the channel axis\n",
    "    M = np.max(img, axis=2)\n",
    "    m = np.min(img, axis=2)\n",
    "    c = M - m\n",
    "    V = M\n",
    "    \n",
    "    # For the rows, if the max is in the first column, etc\n",
    "    h0_mask = (M == img[:, :, 2]) & (c != 0) # M == R, c=/=0\n",
    "    h1_mask = (M == img[:, :, 1]) & (c != 0) # M == G, c=/=0\n",
    "    h2_mask = (M == img[:, :, 0]) & (c != 0) # M == B, c=/=0\n",
    "    c_mask = (c == 0)                      # c == 0\n",
    "    \n",
    "    # Calculate H Values for each row\n",
    "    # We don't just want to use the mask since c can be zero for greyscale. So we want to only compute on the masks, by checking for where to input values in first.\n",
    "    with np.errstate(divide='ignore', invalid='ignore'):\n",
    "        img_hsv[:, :, 0] = np.where(h0_mask, (60 * (((img[:, :, 1] - img[:, :, 0]) / c) % 6)), img_hsv[:, :, 0])\n",
    "        img_hsv[:, :, 0] = np.where(h1_mask, (60 * ((img[:, :, 0] - img[:, :, 2]) / c + 2)), img_hsv[:, :, 0])\n",
    "        img_hsv[:, :, 0] = np.where(h2_mask, (60 * ((img[:, :, 2] - img[:, :, 1]) / c + 4)), img_hsv[:, :, 0])\n",
    "        img_hsv[:, :, 0][c_mask] = 0 # No divide by 0 errors are possible here\n",
    "    # To follow opencv formatting, I will rescale the hue angles to 180deg instead of 360\n",
    "    img_hsv[:, :, 0] /= 2\n",
    "    \n",
    "    # Fill in with correct values for the S column: (c/V)\n",
    "    img_hsv[:, :, 1][V != 0] = c[V != 0]/V[V != 0] * 255\n",
    "    \n",
    "    # Fill in V col\n",
    "    img_hsv[:,:,2] = V\n",
    "    \n",
    "    return np.ceil(img_hsv).astype(np.uint8)"
   ]
  },
  {
   "cell_type": "code",
   "execution_count": 7,
   "metadata": {},
   "outputs": [],
   "source": [
    "class LBP():\n",
    "    def __init__(self, R, P):\n",
    "        self.R = R\n",
    "        self.P = P\n",
    "    def run_lbp(self, img_path):\n",
    "        # Read image and convert it to HSV, then use the H channel for all downstream tasks.\n",
    "        img_bgr = cv2.imread(img_path)\n",
    "        img_hsv = img_BGR_to_HSV(img_bgr)\n",
    "        img_h = img_hsv[:, :, 0]\n",
    "        \n",
    "        # Create padded image of size (64,64) for more feasilbe computation\n",
    "        img_h_sized = cv2.resize(img_h, (62,62), interpolation=cv2.INTER_AREA)\n",
    "        img_h_pad = np.pad(img_h_sized, pad_width=1, mode=\"constant\", constant_values=0)\n",
    "        \n",
    "        # Initialize the histogram vector for the image: (We allow a max index of P + 1 0->9 in this case)\n",
    "        lbp_histogram = np.zeros(self.P + 2)\n",
    "        \n",
    "        # Loop through all possible LBP centers:\n",
    "        for y in range(self.R, img_h_pad.shape[0]-self.R):\n",
    "            for x in range(self.R, img_h_pad.shape[1]-self.R):\n",
    "                center_value = img_h_pad[y, x] # Scalar due to greyscale\n",
    "                p = np.zeros(8)\n",
    "                \n",
    "                # Check the cardinal direction points (up,down,left,right)\n",
    "                if img_h_pad[y+1][x] > center_value:\n",
    "                    p[0] = 1\n",
    "                if img_h_pad[y][x+1] > center_value:\n",
    "                    p[2] = 1\n",
    "                if img_h_pad[y-1][x] > center_value:\n",
    "                    p[4] = 1\n",
    "                if img_h_pad[y][x-1] > center_value:\n",
    "                    p[6] = 1\n",
    "                    \n",
    "                # We also have to check the diagonals.\n",
    "                # To calculate the pixel values at these diagonal points, we need to do pixel-interpolation\n",
    "                # We also apply thresholding on the interpolated points compared to the center to determine 0/1.\n",
    "                # Top right point\n",
    "                p[1] = center_value * (1 - 0.707) * (1 - 0.707) + \\\n",
    "                        img_h_pad[y][x+1] * (1 - 0.707) * 0.707 + \\\n",
    "                        img_h_pad[y+1][x] * 0.707 * (1 - 0.707) + \\\n",
    "                        img_h_pad[y+1][x+1] * 0.707 * 0.707        \n",
    "                p[1] = 1 if p[1] > center_value else 0\n",
    "                \n",
    "                # Bottom right point\n",
    "                p[3] = center_value * (1 - 0.707) * (1 - 0.707) + \\\n",
    "                        img_h_pad[y][x+1] * (1 - 0.707) * 0.707 + \\\n",
    "                        img_h_pad[y-1][x] * 0.707 * (1 - 0.707) + \\\n",
    "                        img_h_pad[y-1][x+1] * 0.707 * 0.707\n",
    "                p[3] = 1 if p[3] > center_value else 0\n",
    "                \n",
    "                # Bottom left point \n",
    "                p[5] = center_value * (1 - 0.707) * (1 - 0.707) + \\\n",
    "                        img_h_pad[y][x-1] * (1 - 0.707) * 0.707 + \\\n",
    "                        img_h_pad[y-1][x] * 0.707 * (1 - 0.707) + \\\n",
    "                        img_h_pad[y-1][x-1] * 0.707 * 0.707           \n",
    "                p[5] = 1 if p[5] > center_value else 0\n",
    "                \n",
    "                # Top left point\n",
    "                p[7] = center_value * (1 - 0.707) * (1 - 0.707) + \\\n",
    "                        img_h_pad[y][x-1] * (1 - 0.707) * 0.707 + \\\n",
    "                        img_h_pad[y+1][x] * 0.707 * (1 - 0.707) + \\\n",
    "                        img_h_pad[y+1][x-1] * 0.707 * 0.707\n",
    "                p[7] = 1 if p[7] > center_value else 0\n",
    "                \n",
    "                # Now that we have out bitvector representation for the circle of points around the center\n",
    "                # We want to find the unique min bitvector to represent the value at that point\n",
    "                # We do this through circular bit-shifts to find the minimal representation:\n",
    "                # This method is from Avi Kak's implementation in lecture 16\n",
    "                bv = BitVector(bitlist=p)\n",
    "                min_val = min([int(bv<<1) for _ in p])\n",
    "                min_bv = BitVector(intVal=min_val, size=len(p))\n",
    "\n",
    "                # Lastly, we use this min-bv value to get the final encoding for that point\n",
    "                # So we create a min-int-val based integer representation of the binary pattern\n",
    "                # From Avi's Notes:\n",
    "                # - If the minIntVal representation involves more than two runs, encode it by the integer P + 1\n",
    "                # – Else, if the minIntVal representation consists of all 0’s, represent it be the encoding 0.\n",
    "                # – Else, if the minIntVal representation consists of all 1’s, represent it by the encoding P.\n",
    "                # - Else: the minIntVal representation of a binary pattern has exactly two runs, that is, \n",
    "                #          a run of 0s followed by a run of 1s, represent the pattern by the number of 1’s in the second run\n",
    "                num_runs = len(min_bv.runs())\n",
    "                \n",
    "                encoding = None\n",
    "                # Mix of 1s and 0s\n",
    "                if num_runs > 2:\n",
    "                    encoding = self.P + 1\n",
    "                # All 0s (8 of them)\n",
    "                elif min_bv.int_val() == 0 and num_runs == 1:\n",
    "                    encoding = self.P\n",
    "                # 8 1s\n",
    "                elif min_bv.int_val() == 255 and num_runs == 1:\n",
    "                    encoding = self.P\n",
    "                # Number of 1s in the second pattern if it is a run of all 0s then 1s\n",
    "                else:\n",
    "                    encoding = len(min_bv.runs()[1])\n",
    "                lbp_histogram[encoding] += 1\n",
    "        return lbp_histogram"
   ]
  },
  {
   "cell_type": "code",
   "execution_count": 8,
   "metadata": {},
   "outputs": [],
   "source": [
    "class MySVM():\n",
    "    def __init__(self):\n",
    "        self.classifier = SVC(decision_function_shape=\"ovr\")\n",
    "        \n",
    "    def fit(self, features, labels):\n",
    "        # Train the classifier on the train data/labels\n",
    "        self.classifier.fit(features, labels)\n",
    "        \n",
    "    def predict(self, features):\n",
    "        # Predict the labels for the tes data\n",
    "        return self.classifier.predict(features)\n",
    "        \n",
    "    def fit_predict(self, features, labels):\n",
    "        # Fit and predict on the same data\n",
    "        self.classifier.fit(features, labels)\n",
    "        return self.classifier.predict(features)\n",
    "        \n",
    "    def score(self, predicted_labels, true_labels):\n",
    "        # Returns the mean accuracy using the test data and labels.\n",
    "        return accuracy_score(true_labels, predicted_labels), classification_report(true_labels, predicted_labels)"
   ]
  },
  {
   "cell_type": "code",
   "execution_count": 129,
   "metadata": {},
   "outputs": [
    {
     "name": "stderr",
     "output_type": "stream",
     "text": [
      "Training Loop:  85%|████████▌ | 789/926 [08:05<01:15,  1.82it/s]"
     ]
    },
    {
     "name": "stdout",
     "output_type": "stream",
     "text": [
      "This image did not work:  rain141.jpg\n"
     ]
    },
    {
     "name": "stderr",
     "output_type": "stream",
     "text": [
      "Training Loop:  88%|████████▊ | 819/926 [08:23<01:05,  1.63it/s]"
     ]
    },
    {
     "name": "stdout",
     "output_type": "stream",
     "text": [
      "This image did not work:  .DS_Store\n"
     ]
    },
    {
     "name": "stderr",
     "output_type": "stream",
     "text": [
      "Training Loop:  97%|█████████▋| 898/926 [09:10<00:16,  1.74it/s]"
     ]
    },
    {
     "name": "stdout",
     "output_type": "stream",
     "text": [
      "This image did not work:  shine131.jpg\n"
     ]
    },
    {
     "name": "stderr",
     "output_type": "stream",
     "text": [
      "Training Loop: 100%|██████████| 926/926 [09:27<00:00,  1.63it/s]\n"
     ]
    }
   ],
   "source": [
    "R = 1\n",
    "P = 8\n",
    "image_list = os.listdir(\"/mnt/cloudNAS3/Adubois/Classes/ECE661/HW7/HW7-Auxilliary/data/training/\")\n",
    "lbp_hist_list = []\n",
    "labels_list = []\n",
    "progress_bar = tqdm(image_list, desc=\"Training Loop\")\n",
    "image_type_to_label = {\"cloudy\": 0, \"rain\": 1, \"shine\": 2, \"sunrise\": 3}\n",
    "\n",
    "for image_name in progress_bar:\n",
    "    try:\n",
    "        image_path = \"/mnt/cloudNAS3/Adubois/Classes/ECE661/HW7/HW7-Auxilliary/data/training/\" + image_name\n",
    "        image_type = re.split(r\"([0-9]+)\", image_name)[0]\n",
    "        label = image_type_to_label[image_type]\n",
    "        \n",
    "        lbp_hist = LBP(R=R, P=P).run_lbp(img_path=image_path)\n",
    "        lbp_hist_list.append(lbp_hist)\n",
    "        \n",
    "        # Fill in with image name -> index for training\n",
    "        labels_list.append(label)\n",
    "    except Exception as e:\n",
    "        print(\"This image did not work: \", image_name)\n",
    "    "
   ]
  },
  {
   "cell_type": "code",
   "execution_count": 155,
   "metadata": {},
   "outputs": [],
   "source": [
    "svm = MySVM()\n",
    "svm.fit(lbp_hist_list, labels_list)"
   ]
  },
  {
   "cell_type": "code",
   "execution_count": 132,
   "metadata": {},
   "outputs": [],
   "source": [
    "result_dict = {\"lbp_hist_list\": lbp_hist_list, \"labels_list\": labels_list}\n",
    "with open(\"/mnt/cloudNAS3/Adubois/Classes/ECE661/HW7/Saves/lbp_hists.pkl\", \"wb\") as file:\n",
    "    pickle.dump(result_dict, file)"
   ]
  },
  {
   "cell_type": "code",
   "execution_count": 136,
   "metadata": {},
   "outputs": [
    {
     "name": "stderr",
     "output_type": "stream",
     "text": [
      "Testing Loop: 100%|██████████| 200/200 [01:56<00:00,  1.71it/s]\n"
     ]
    }
   ],
   "source": [
    "test_image_list = os.listdir(\"/mnt/cloudNAS3/Adubois/Classes/ECE661/HW7/HW7-Auxilliary/data/testing/\")\n",
    "test_lbp_hist_list = []\n",
    "test_labels_list = []\n",
    "image_type_to_label = {\"cloudy\": 0, \"rain\": 1, \"shine\": 2, \"sunrise\": 3}\n",
    "test_progress_bar = tqdm(test_image_list, desc=\"Testing Loop\")\n",
    "\n",
    "for image_name in test_progress_bar:\n",
    "    try:\n",
    "        image_path = \"/mnt/cloudNAS3/Adubois/Classes/ECE661/HW7/HW7-Auxilliary/data/testing/\" + image_name\n",
    "        image_type = re.split(r\"([0-9]+)\", image_name)[0]\n",
    "        label = image_type_to_label[image_type]\n",
    "        \n",
    "        lbp_hist = LBP(R=R, P=P).run_lbp(img_path=image_path)\n",
    "        test_lbp_hist_list.append(lbp_hist)\n",
    "    \n",
    "        # Add in labels based on image name\n",
    "        test_labels_list.append(label)\n",
    "    except Exception as e:\n",
    "        print(\"This image did not work: \", image_name)"
   ]
  },
  {
   "cell_type": "code",
   "execution_count": 138,
   "metadata": {},
   "outputs": [],
   "source": [
    "test_result_dict = {\"test_lbp_hist_list\": test_lbp_hist_list, \"test_labels_list\": test_labels_list}\n",
    "with open(\"/mnt/cloudNAS3/Adubois/Classes/ECE661/HW7/Saves/test_lbp_hists.pkl\", \"wb\") as file:\n",
    "    pickle.dump(test_result_dict, file)"
   ]
  },
  {
   "cell_type": "code",
   "execution_count": 156,
   "metadata": {},
   "outputs": [],
   "source": [
    "predicted_labels = svm.predict(test_lbp_hist_list)"
   ]
  },
  {
   "cell_type": "code",
   "execution_count": 157,
   "metadata": {},
   "outputs": [],
   "source": [
    "accuracy, class_report = svm.score(predicted_labels, test_labels_list)"
   ]
  },
  {
   "cell_type": "code",
   "execution_count": 164,
   "metadata": {},
   "outputs": [
    {
     "data": {
      "image/png": "[encoded data removed]",
      "text/plain": [
       "<Figure size 800x600 with 1 Axes>"
      ]
     },
     "metadata": {},
     "output_type": "display_data"
    }
   ],
   "source": [
    "confusion_mat = confusion_matrix(test_labels_list, predicted_labels)\n",
    "\n",
    "plt.figure(figsize=(8, 6))\n",
    "sns.heatmap(confusion_mat, annot=True, fmt='d', cmap='Blues', cbar=False)\n",
    "plt.xlabel('Predicted Labels')\n",
    "plt.ylabel('True Labels')\n",
    "plt.title('Confusion Matrix', fontsize=16, fontweight='bold')\n",
    "plt.show()"
   ]
  },
  {
   "cell_type": "markdown",
   "metadata": {},
   "source": [
    "# Get results for LBP histograms & images success/failure"
   ]
  },
  {
   "cell_type": "code",
   "execution_count": 170,
   "metadata": {},
   "outputs": [],
   "source": [
    "lbp_path = \"/mnt/cloudNAS3/Adubois/Classes/ECE661/HW7/Results/LBP_Results/\"\n",
    "lbp_hist_path = \"/mnt/cloudNAS3/Adubois/Classes/ECE661/HW7/Results/LBP_Hists/\"\n",
    "# I only want to save 1 positive match example and 1 negative match example for each class\n",
    "# The class is therefore the first number, and the second number is for matching labels or not\n",
    "results_gotten = {\"01\": 0, \"00\": 0,\n",
    "                  \"11\": 0, \"10\": 0,\n",
    "                  \"21\": 0, \"20\": 0,\n",
    "                  \"31\": 0, \"30\": 0}\n",
    "\n",
    "for image_name, test_lbp_hist, test_label, pred_label in zip(test_progress_bar, test_lbp_hist_list, test_labels_list, predicted_labels):\n",
    "    encoding = str(test_label)\n",
    "    correct = \"\"\n",
    "    if test_label == pred_label:\n",
    "        encoding += \"1\"\n",
    "        correct = \"correct\"\n",
    "    else:\n",
    "        encoding += \"0\"\n",
    "        correct = \"false\"\n",
    "    \n",
    "    if results_gotten[encoding] == 0:\n",
    "        # New type of result to save\n",
    "        results_gotten[encoding] += 1\n",
    "        \n",
    "        # Save the resize testing image\n",
    "        image_path = \"/mnt/cloudNAS3/Adubois/Classes/ECE661/HW7/HW7-Auxilliary/data/testing/\" + image_name\n",
    "        img = cv2.imread(image_path)\n",
    "        img_resized = cv2.resize(img, (128,128), interpolation=cv2.INTER_AREA)\n",
    "        cv2.imwrite(lbp_hist_path+image_name, img_resized)\n",
    "        \n",
    "        # Save the histogram plot\n",
    "        plt.figure(figsize=(8,6))\n",
    "        plt.bar(range(len(test_lbp_hist)), test_lbp_hist, color='blue')  # Customize color as needed\n",
    "        plt.tight_layout()\n",
    "        # Save the plot to a file\n",
    "        plt.savefig(lbp_hist_path+image_name[:-4] + \"_lbp_hist_\" + correct + \".png\", format='png', dpi=300)\n",
    "        plt.close()"
   ]
  },
  {
   "cell_type": "markdown",
   "metadata": {},
   "source": [
    "# Feature Map Extraction"
   ]
  },
  {
   "cell_type": "code",
   "execution_count": 2,
   "metadata": {},
   "outputs": [],
   "source": [
    "# We run this once, and save all of the feature maps for all of the images to save computation time during debugging\n",
    "class FeatureMapper():\n",
    "    def __init__(self):\n",
    "        pass\n",
    "    def get_resized_img_input(self, img_path):\n",
    "        img = cv2.imread(img_path)\n",
    "        # Convert images to RGB due to how RESNET and VGG expect inputs\n",
    "        img = cv2.cvtColor(img, cv2.COLOR_BGR2RGB)\n",
    "        \n",
    "        # Create padded image of size (256,256) for more feasilbe computation\n",
    "        img = cv2.resize(img, (256,256), interpolation=cv2.INTER_AREA)\n",
    "        return img\n",
    "        \n",
    "    def get_feature_map_vgg(self, img_path):\n",
    "        img = self.get_resized_img_input(img_path)\n",
    "        \n",
    "        # The next three lines are from the tutorial included in the instructions\n",
    "        vgg = VGG19()\n",
    "        vgg.load_weights('vgg_normalized.pth')\n",
    "        vgg_feature = vgg(img)\n",
    "        return vgg_feature\n",
    "        \n",
    "    def get_feature_map_resnet(self, img_path):\n",
    "        img = self.get_resized_img_input(img_path)\n",
    "        \n",
    "        # The next three lines are from the tutorial included in the instructions\n",
    "        encoder_name='resnet50'\n",
    "        resnet = CustomResNet(encoder=encoder_name)\n",
    "        resnet_feat_coarse, resnet_feat_fine = resnet(img)\n",
    "        return resnet_feat_coarse, resnet_feat_fine"
   ]
  },
  {
   "cell_type": "code",
   "execution_count": 10,
   "metadata": {},
   "outputs": [
    {
     "name": "stderr",
     "output_type": "stream",
     "text": [
      "Training Loop:   0%|          | 0/926 [00:00<?, ?it/s]/mnt/cloudNAS3/Adubois/Classes/ECE661/HW7/vgg_and_resnet.py:66: FutureWarning: You are using `torch.load` with `weights_only=False` (the current default value), which uses the default pickle module implicitly. It is possible to construct malicious pickle data which will execute arbitrary code during unpickling (See https://github.com/pytorch/pytorch/blob/main/SECURITY.md#untrusted-models for more details). In a future release, the default value for `weights_only` will be flipped to `True`. This limits the functions that could be executed during unpickling. Arbitrary objects will no longer be allowed to be loaded via this mode unless they are explicitly allowlisted by the user via `torch.serialization.add_safe_globals`. We recommend you start setting `weights_only=True` for any use case where you don't have full control of the loaded file. Please open an issue on GitHub for any issues related to this experimental feature.\n",
      "  vgg_model = torch.load(path_to_weights)\n",
      "/mnt/cloudNAS3/Adubois/Installations/anaconda3/envs/dfrvl_cuda/lib/python3.8/site-packages/torchvision/models/_utils.py:208: UserWarning: The parameter 'pretrained' is deprecated since 0.13 and may be removed in the future, please use 'weights' instead.\n",
      "  warnings.warn(\n",
      "/mnt/cloudNAS3/Adubois/Installations/anaconda3/envs/dfrvl_cuda/lib/python3.8/site-packages/torchvision/models/_utils.py:223: UserWarning: Arguments other than a weight enum or `None` for 'weights' are deprecated since 0.13 and may be removed in the future. The current behavior is equivalent to passing `weights=ResNet50_Weights.IMAGENET1K_V1`. You can also use `weights=ResNet50_Weights.DEFAULT` to get the most up-to-date weights.\n",
      "  warnings.warn(msg)\n",
      "Training Loop:  85%|████████▌ | 789/926 [10:23<01:33,  1.47it/s]"
     ]
    },
    {
     "name": "stdout",
     "output_type": "stream",
     "text": [
      "This image did not work:  rain141.jpg\n",
      "OpenCV(4.10.0) /io/opencv/modules/imgproc/src/color.cpp:196: error: (-215:Assertion failed) !_src.empty() in function 'cvtColor'\n",
      "\n"
     ]
    },
    {
     "name": "stderr",
     "output_type": "stream",
     "text": [
      "Training Loop:  88%|████████▊ | 819/926 [10:42<01:12,  1.48it/s]"
     ]
    },
    {
     "name": "stdout",
     "output_type": "stream",
     "text": [
      "This image did not work:  .DS_Store\n",
      "'.DS_Store'\n"
     ]
    },
    {
     "name": "stderr",
     "output_type": "stream",
     "text": [
      "Training Loop:  97%|█████████▋| 898/926 [11:36<00:19,  1.47it/s]"
     ]
    },
    {
     "name": "stdout",
     "output_type": "stream",
     "text": [
      "This image did not work:  shine131.jpg\n",
      "OpenCV(4.10.0) /io/opencv/modules/imgproc/src/color.cpp:196: error: (-215:Assertion failed) !_src.empty() in function 'cvtColor'\n",
      "\n"
     ]
    },
    {
     "name": "stderr",
     "output_type": "stream",
     "text": [
      "Training Loop: 100%|██████████| 926/926 [11:55<00:00,  1.29it/s]\n"
     ]
    }
   ],
   "source": [
    "image_list = os.listdir(\"/mnt/cloudNAS3/Adubois/Classes/ECE661/HW7/HW7-Auxilliary/data/training/\")\n",
    "vgg_feature_list = []\n",
    "resnet_coarse_feature_list = []\n",
    "resnet_fine_feature_list = []\n",
    "progress_bar = tqdm(image_list, desc=\"Training Loop\")\n",
    "image_type_to_label = {\"cloudy\": 0, \"rain\": 1, \"shine\": 2, \"sunrise\": 3}\n",
    "img_names = []\n",
    "labels_list = []\n",
    "featureMapper = FeatureMapper()\n",
    "\n",
    "for image_name in progress_bar:\n",
    "    try:\n",
    "        image_path = \"/mnt/cloudNAS3/Adubois/Classes/ECE661/HW7/HW7-Auxilliary/data/training/\" + image_name\n",
    "        image_type = re.split(r\"([0-9]+)\", image_name)[0]\n",
    "        label = image_type_to_label[image_type]\n",
    "        \n",
    "        # Get VGG Feature Map\n",
    "        vgg_feature = featureMapper.get_feature_map_vgg(img_path=image_path)\n",
    "        vgg_feature_list.append(vgg_feature)\n",
    "        \n",
    "        # Resnet Features\n",
    "        resnet_feat_coarse, resnet_feat_fine = featureMapper.get_feature_map_resnet(img_path=image_path)\n",
    "        resnet_coarse_feature_list.append(resnet_feat_coarse)\n",
    "        resnet_fine_feature_list.append(resnet_feat_fine)\n",
    "        \n",
    "        # Append the image name:\n",
    "        img_names.append(image_name)\n",
    "        \n",
    "        # Fill in with image name -> index for training\n",
    "        labels_list.append(label)\n",
    "    except Exception as e:\n",
    "        print(\"This image did not work: \", image_name)\n",
    "        print(e)\n",
    "    "
   ]
  },
  {
   "cell_type": "code",
   "execution_count": 12,
   "metadata": {},
   "outputs": [],
   "source": [
    "result_dict = {\"vgg_feature_list\": vgg_feature_list,\n",
    "               \"resnet_coarse_feature_list\": resnet_coarse_feature_list,\n",
    "               \"resnet_fine_feature_list\": resnet_fine_feature_list,\n",
    "               \"img_names\": img_names,\n",
    "               \"labels_list\": labels_list}"
   ]
  },
  {
   "cell_type": "code",
   "execution_count": 13,
   "metadata": {},
   "outputs": [],
   "source": [
    "with open(\"/mnt/cloudNAS3/Adubois/Classes/ECE661/HW7/Saves/training_freature_mats.pkl\", \"wb\") as file:\n",
    "    pickle.dump(result_dict, file)"
   ]
  },
  {
   "cell_type": "code",
   "execution_count": 14,
   "metadata": {},
   "outputs": [
    {
     "name": "stderr",
     "output_type": "stream",
     "text": [
      "Testing Loop:   0%|          | 0/200 [00:00<?, ?it/s]/mnt/cloudNAS3/Adubois/Classes/ECE661/HW7/vgg_and_resnet.py:66: FutureWarning: You are using `torch.load` with `weights_only=False` (the current default value), which uses the default pickle module implicitly. It is possible to construct malicious pickle data which will execute arbitrary code during unpickling (See https://github.com/pytorch/pytorch/blob/main/SECURITY.md#untrusted-models for more details). In a future release, the default value for `weights_only` will be flipped to `True`. This limits the functions that could be executed during unpickling. Arbitrary objects will no longer be allowed to be loaded via this mode unless they are explicitly allowlisted by the user via `torch.serialization.add_safe_globals`. We recommend you start setting `weights_only=True` for any use case where you don't have full control of the loaded file. Please open an issue on GitHub for any issues related to this experimental feature.\n",
      "  vgg_model = torch.load(path_to_weights)\n",
      "/mnt/cloudNAS3/Adubois/Installations/anaconda3/envs/dfrvl_cuda/lib/python3.8/site-packages/torchvision/models/_utils.py:208: UserWarning: The parameter 'pretrained' is deprecated since 0.13 and may be removed in the future, please use 'weights' instead.\n",
      "  warnings.warn(\n",
      "/mnt/cloudNAS3/Adubois/Installations/anaconda3/envs/dfrvl_cuda/lib/python3.8/site-packages/torchvision/models/_utils.py:223: UserWarning: Arguments other than a weight enum or `None` for 'weights' are deprecated since 0.13 and may be removed in the future. The current behavior is equivalent to passing `weights=ResNet50_Weights.IMAGENET1K_V1`. You can also use `weights=ResNet50_Weights.DEFAULT` to get the most up-to-date weights.\n",
      "  warnings.warn(msg)\n",
      "Testing Loop: 100%|██████████| 200/200 [02:43<00:00,  1.22it/s]\n"
     ]
    }
   ],
   "source": [
    "test_image_list = os.listdir(\"/mnt/cloudNAS3/Adubois/Classes/ECE661/HW7/HW7-Auxilliary/data/testing/\")\n",
    "test_vgg_feature_list = []\n",
    "test_resnet_coarse_feature_list = []\n",
    "test_resnet_fine_feature_list = []\n",
    "test_img_names = []\n",
    "test_labels_list = []\n",
    "image_type_to_label = {\"cloudy\": 0, \"rain\": 1, \"shine\": 2, \"sunrise\": 3}\n",
    "featureMapper = FeatureMapper()\n",
    "test_progress_bar = tqdm(test_image_list, desc=\"Testing Loop\")\n",
    "\n",
    "for image_name in test_progress_bar:\n",
    "    try:\n",
    "        image_path = \"/mnt/cloudNAS3/Adubois/Classes/ECE661/HW7/HW7-Auxilliary/data/testing/\" + image_name\n",
    "        image_type = re.split(r\"([0-9]+)\", image_name)[0]\n",
    "        label = image_type_to_label[image_type]\n",
    "        \n",
    "        # Get VGG Feature Map\n",
    "        test_vgg_feature = featureMapper.get_feature_map_vgg(img_path=image_path)\n",
    "        test_vgg_feature_list.append(test_vgg_feature)\n",
    "        \n",
    "        # Resnet Features\n",
    "        test_resnet_feat_coarse, test_resnet_feat_fine = featureMapper.get_feature_map_resnet(img_path=image_path)\n",
    "        test_resnet_coarse_feature_list.append(test_resnet_feat_coarse)\n",
    "        test_resnet_fine_feature_list.append(test_resnet_feat_fine)\n",
    "        \n",
    "        # Append the image name:\n",
    "        test_img_names.append(image_name)\n",
    "        \n",
    "        # Fill in with image name -> index for training\n",
    "        test_labels_list.append(label)\n",
    "    except Exception as e:\n",
    "        print(\"This image did not work: \", image_name)\n",
    "        print(e)\n",
    "    "
   ]
  },
  {
   "cell_type": "code",
   "execution_count": 15,
   "metadata": {},
   "outputs": [],
   "source": [
    "test_result_dict = {\"test_vgg_feature_list\": test_vgg_feature_list,\n",
    "               \"test_resnet_coarse_feature_list\": test_resnet_coarse_feature_list,\n",
    "               \"test_resnet_fine_feature_list\": test_resnet_fine_feature_list,\n",
    "               \"test_img_names\": test_img_names,\n",
    "               \"test_labels_list\": test_labels_list}"
   ]
  },
  {
   "cell_type": "code",
   "execution_count": 16,
   "metadata": {},
   "outputs": [],
   "source": [
    "with open(\"/mnt/cloudNAS3/Adubois/Classes/ECE661/HW7/Saves/testing_freature_mats.pkl\", \"wb\") as file:\n",
    "    pickle.dump(result_dict, file)"
   ]
  },
  {
   "cell_type": "markdown",
   "metadata": {},
   "source": [
    "# Gram Matrix Calculation:"
   ]
  },
  {
   "cell_type": "code",
   "execution_count": 55,
   "metadata": {},
   "outputs": [],
   "source": [
    "def get_gram_matrix(feature_mat_list):\n",
    "    f_mats = np.array(feature_mat_list)\n",
    "    N, C, H, W = f_mats.shape\n",
    "    fmats_flat = f_mats.reshape(N, C, H*W)\n",
    "    \n",
    "    # A Gram matrix is the feature_map * feature_map.T\n",
    "    gram_matrix = fmats_flat @ fmats_flat.transpose(0, 2, 1)\n",
    "    \n",
    "    # Conver the numpy array to a pytorch tensor for biliinear interpolation in downsampling\n",
    "    # I also unsqueeze in the first dimension so that pytorch treats the final two dimensions as H,W and downsamples on those\n",
    "    # Otherwise, would read the it as Batch, Channel, Height and a missing width\n",
    "    gram_mat_tensor = torch.from_numpy(gram_matrix).unsqueeze(0)\n",
    "    \n",
    "    # Lastly, we want to resize the gram matrix from 512x512 to (32,32) for easier computation\n",
    "    # We do this using bilinear interpolation\n",
    "    downsampled_matrix = F.interpolate(gram_mat_tensor, size=(32, 32), mode='bilinear', align_corners=False)\n",
    "\n",
    "    return downsampled_matrix.squeeze().numpy()"
   ]
  },
  {
   "cell_type": "code",
   "execution_count": 56,
   "metadata": {},
   "outputs": [],
   "source": [
    "vgg_gram_matrices = get_gram_matrix(vgg_feature_list)\n",
    "resnet_coarse_gram_matrices = get_gram_matrix(resnet_coarse_feature_list)\n",
    "resnet_fine_gram_matrices = get_gram_matrix(resnet_fine_feature_list)\n",
    "test_vgg_gram_matrices = get_gram_matrix(test_vgg_feature_list)\n",
    "test_resnet_coarse_gram_matrices = get_gram_matrix(test_resnet_coarse_feature_list)\n",
    "test_resnet_fine_gram_matrices = get_gram_matrix(test_resnet_fine_feature_list)"
   ]
  },
  {
   "cell_type": "code",
   "execution_count": 60,
   "metadata": {},
   "outputs": [],
   "source": [
    "# Flattening the final dimseion is required since SVM can only take in as inputs 2 dims (Batch, features)\n",
    "vgg_gram_matrices = vgg_gram_matrices.reshape(vgg_gram_matrices.shape[0], -1)\n",
    "resnet_coarse_gram_matrices = resnet_coarse_gram_matrices.reshape(resnet_coarse_gram_matrices.shape[0], -1)\n",
    "resnet_fine_gram_matrices = resnet_fine_gram_matrices.reshape(resnet_fine_gram_matrices.shape[0], -1)\n",
    "test_vgg_gram_matrices = test_vgg_gram_matrices.reshape(test_vgg_gram_matrices.shape[0], -1)\n",
    "test_resnet_coarse_gram_matrices = test_resnet_coarse_gram_matrices.reshape(test_resnet_coarse_gram_matrices.shape[0], -1)\n",
    "test_resnet_fine_gram_matrices = test_resnet_fine_gram_matrices.reshape(test_resnet_fine_gram_matrices.shape[0], -1)"
   ]
  },
  {
   "cell_type": "code",
   "execution_count": 73,
   "metadata": {},
   "outputs": [],
   "source": [
    "# Save gram matrices to a file:\n",
    "gram_matrices = {\"vgg_gram_matrices\": vgg_gram_matrices,\n",
    "\"resnet_coarse_gram_matrices\": resnet_coarse_gram_matrices,\n",
    "\"resnet_fine_gram_matrices\": resnet_fine_gram_matrices,\n",
    "\"test_vgg_gram_matrices\": test_vgg_gram_matrices,\n",
    "\"test_resnet_coarse_gram_matrices\": test_resnet_coarse_gram_matrices,\n",
    "\"test_resnet_fine_gram_matrices\": test_resnet_fine_gram_matrices}\n",
    "with open(\"/mnt/cloudNAS3/Adubois/Classes/ECE661/HW7/Saves/all_gram_matrices.pkl\", \"wb\") as file:\n",
    "    pickle.dump(gram_matrices, file)"
   ]
  },
  {
   "cell_type": "markdown",
   "metadata": {},
   "source": [
    "# VGG Final Results"
   ]
  },
  {
   "cell_type": "code",
   "execution_count": 70,
   "metadata": {},
   "outputs": [
    {
     "name": "stdout",
     "output_type": "stream",
     "text": [
      "Accuracy:  0.905\n",
      "              precision    recall  f1-score   support\n",
      "\n",
      "           0       0.87      0.94      0.90        50\n",
      "           1       0.92      0.88      0.90        50\n",
      "           2       0.93      0.84      0.88        50\n",
      "           3       0.91      0.96      0.93        50\n",
      "\n",
      "    accuracy                           0.91       200\n",
      "   macro avg       0.91      0.90      0.90       200\n",
      "weighted avg       0.91      0.91      0.90       200\n",
      "\n"
     ]
    }
   ],
   "source": [
    "# VGG SVM:\n",
    "svm = MySVM()\n",
    "svm.fit(vgg_gram_matrices, labels_list)\n",
    "vgg_predicted_labels = svm.predict(test_vgg_gram_matrices)\n",
    "vgg_accuracy, vgg_class_report = svm.score(vgg_predicted_labels, test_labels_list)\n",
    "print(\"Accuracy: \", vgg_accuracy)\n",
    "print(vgg_class_report)"
   ]
  },
  {
   "cell_type": "code",
   "execution_count": 75,
   "metadata": {},
   "outputs": [
    {
     "data": {
      "image/png": "[encoded data removed]",
      "text/plain": [
       "<Figure size 800x600 with 1 Axes>"
      ]
     },
     "metadata": {},
     "output_type": "display_data"
    }
   ],
   "source": [
    "vgg_confusion_mat = confusion_matrix(test_labels_list, vgg_predicted_labels)\n",
    "\n",
    "plt.figure(figsize=(8, 6))\n",
    "sns.heatmap(vgg_confusion_mat, annot=True, fmt='d', cmap='Blues', cbar=False)\n",
    "plt.xlabel('Predicted Labels')\n",
    "plt.ylabel('True Labels')\n",
    "plt.title('Confusion Matrix', fontsize=16, fontweight='bold')\n",
    "plt.show()"
   ]
  },
  {
   "cell_type": "code",
   "execution_count": 81,
   "metadata": {},
   "outputs": [],
   "source": [
    "vgg_path = \"/mnt/cloudNAS3/Adubois/Classes/ECE661/HW7/Results/VGG_Results/\"\n",
    "# I only want to save 1 positive match example and 1 negative match example for each class\n",
    "# The class is therefore the first number, and the second number is for matching labels or not\n",
    "results_gotten = {\"01\": 0, \"00\": 0,\n",
    "                  \"11\": 0, \"10\": 0,\n",
    "                  \"21\": 0, \"20\": 0,\n",
    "                  \"31\": 0, \"30\": 0}\n",
    "\n",
    "for image_name, gram_matrix, test_label, pred_label in zip(test_progress_bar, test_vgg_gram_matrices, test_labels_list, vgg_predicted_labels):\n",
    "    encoding = str(test_label)\n",
    "    correct = \"\"\n",
    "    if test_label == pred_label:\n",
    "        encoding += \"1\"\n",
    "        correct = \"correct\"\n",
    "    else:\n",
    "        encoding += \"0\"\n",
    "        correct = \"false\"\n",
    "    \n",
    "    if results_gotten[encoding] == 0:\n",
    "        # New type of result to save\n",
    "        results_gotten[encoding] += 1\n",
    "        \n",
    "        # Convert the vgg_gram_matrix back from (N,1024) -> (N, 32,32) for display\n",
    "        gram_matrix = gram_matrix.reshape(32, 32)\n",
    "        \n",
    "        # Save the resize testing image\n",
    "        image_path = \"/mnt/cloudNAS3/Adubois/Classes/ECE661/HW7/HW7-Auxilliary/data/testing/\" + image_name\n",
    "        img = cv2.imread(image_path)\n",
    "        img_resized = cv2.resize(img, (128,128), interpolation=cv2.INTER_AREA)\n",
    "        cv2.imwrite(vgg_path+image_name, img_resized)\n",
    "        \n",
    "        # Save the gram matrix to display for results section of the report\n",
    "        plt.figure(figsize=(8,6))\n",
    "        \n",
    "        # Use seaborn to create a heatmap\n",
    "        sns.heatmap(gram_matrix, cmap=\"viridis\", cbar=True)\n",
    "        plt.tight_layout()\n",
    "        # Save the heatmap to a file\n",
    "        plt.savefig(vgg_path+image_name[:-4] + \"_gram_mat_\" + correct + \".png\", format='png', dpi=300, bbox_inches=\"tight\")\n",
    "        plt.close()"
   ]
  },
  {
   "cell_type": "markdown",
   "metadata": {},
   "source": [
    "# Resnet Coarse Results"
   ]
  },
  {
   "cell_type": "code",
   "execution_count": 71,
   "metadata": {},
   "outputs": [
    {
     "name": "stdout",
     "output_type": "stream",
     "text": [
      "Accuracy:  0.76\n",
      "              precision    recall  f1-score   support\n",
      "\n",
      "           0       0.57      0.88      0.69        50\n",
      "           1       1.00      0.68      0.81        50\n",
      "           2       0.88      0.60      0.71        50\n",
      "           3       0.80      0.88      0.84        50\n",
      "\n",
      "    accuracy                           0.76       200\n",
      "   macro avg       0.81      0.76      0.76       200\n",
      "weighted avg       0.81      0.76      0.76       200\n",
      "\n"
     ]
    }
   ],
   "source": [
    "# Resnet Coarse:\n",
    "svm = MySVM()\n",
    "svm.fit(resnet_coarse_gram_matrices, labels_list)\n",
    "resnet_coarse_predicted_labels = svm.predict(test_resnet_coarse_gram_matrices)\n",
    "resnet_coarse_accuracy, resnet_coarse_class_report = svm.score(resnet_coarse_predicted_labels, test_labels_list)\n",
    "print(\"Accuracy: \", resnet_coarse_accuracy)\n",
    "print(resnet_coarse_class_report)"
   ]
  },
  {
   "cell_type": "code",
   "execution_count": 76,
   "metadata": {},
   "outputs": [
    {
     "data": {
      "image/png": "[encoded data removed]",
      "text/plain": [
       "<Figure size 800x600 with 1 Axes>"
      ]
     },
     "metadata": {},
     "output_type": "display_data"
    }
   ],
   "source": [
    "resnet_coarse_confusion_mat = confusion_matrix(test_labels_list, resnet_coarse_predicted_labels)\n",
    "\n",
    "plt.figure(figsize=(8, 6))\n",
    "sns.heatmap(resnet_coarse_confusion_mat, annot=True, fmt='d', cmap='Blues', cbar=False)\n",
    "plt.xlabel('Predicted Labels')\n",
    "plt.ylabel('True Labels')\n",
    "plt.title('Confusion Matrix', fontsize=16, fontweight='bold')\n",
    "plt.show()"
   ]
  },
  {
   "cell_type": "code",
   "execution_count": 82,
   "metadata": {},
   "outputs": [],
   "source": [
    "resnet_coarse_path = \"/mnt/cloudNAS3/Adubois/Classes/ECE661/HW7/Results/Resnet_Coarse_Results/\"\n",
    "# I only want to save 1 positive match example and 1 negative match example for each class\n",
    "# The class is therefore the first number, and the second number is for matching labels or not\n",
    "results_gotten = {\"01\": 0, \"00\": 0,\n",
    "                  \"11\": 0, \"10\": 0,\n",
    "                  \"21\": 0, \"20\": 0,\n",
    "                  \"31\": 0, \"30\": 0}\n",
    "\n",
    "for image_name, gram_matrix, test_label, pred_label in zip(test_progress_bar, test_resnet_coarse_gram_matrices, test_labels_list, resnet_coarse_predicted_labels):\n",
    "    encoding = str(test_label)\n",
    "    correct = \"\"\n",
    "    if test_label == pred_label:\n",
    "        encoding += \"1\"\n",
    "        correct = \"correct\"\n",
    "    else:\n",
    "        encoding += \"0\"\n",
    "        correct = \"false\"\n",
    "    \n",
    "    if results_gotten[encoding] == 0:\n",
    "        # New type of result to save\n",
    "        results_gotten[encoding] += 1\n",
    "        \n",
    "        # Convert the vgg_gram_matrix back from (N,1024) -> (N, 32,32) for display\n",
    "        gram_matrix = gram_matrix.reshape(32, 32)\n",
    "        \n",
    "        # Save the resize testing image\n",
    "        image_path = \"/mnt/cloudNAS3/Adubois/Classes/ECE661/HW7/HW7-Auxilliary/data/testing/\" + image_name\n",
    "        img = cv2.imread(image_path)\n",
    "        img_resized = cv2.resize(img, (128,128), interpolation=cv2.INTER_AREA)\n",
    "        cv2.imwrite(resnet_coarse_path+image_name, img_resized)\n",
    "        \n",
    "        # Save the gram matrix to display for results section of the report\n",
    "        plt.figure(figsize=(8,6))\n",
    "        \n",
    "        # Use seaborn to create a heatmap\n",
    "        sns.heatmap(gram_matrix, cmap=\"viridis\", cbar=True)\n",
    "        plt.tight_layout()\n",
    "        # Save the heatmap to a file\n",
    "        plt.savefig(resnet_coarse_path+image_name[:-4] + \"_gram_mat_\" + correct + \".png\", format='png', dpi=300, bbox_inches=\"tight\")\n",
    "        plt.close()"
   ]
  },
  {
   "cell_type": "markdown",
   "metadata": {},
   "source": [
    "# Resnet Fine Results:"
   ]
  },
  {
   "cell_type": "code",
   "execution_count": 72,
   "metadata": {},
   "outputs": [
    {
     "name": "stdout",
     "output_type": "stream",
     "text": [
      "Accuracy:  0.895\n",
      "              precision    recall  f1-score   support\n",
      "\n",
      "           0       0.82      0.84      0.83        50\n",
      "           1       1.00      0.94      0.97        50\n",
      "           2       0.93      0.82      0.87        50\n",
      "           3       0.84      0.98      0.91        50\n",
      "\n",
      "    accuracy                           0.90       200\n",
      "   macro avg       0.90      0.89      0.90       200\n",
      "weighted avg       0.90      0.90      0.90       200\n",
      "\n"
     ]
    }
   ],
   "source": [
    "# VGG SVM:\n",
    "svm = MySVM()\n",
    "svm.fit(resnet_fine_gram_matrices, labels_list)\n",
    "resnet_fine_predicted_labels = svm.predict(test_resnet_fine_gram_matrices)\n",
    "resnet_fine_accuracy, resnet_fine_class_report = svm.score(resnet_fine_predicted_labels, test_labels_list)\n",
    "print(\"Accuracy: \", resnet_fine_accuracy)\n",
    "print(resnet_fine_class_report)"
   ]
  },
  {
   "cell_type": "code",
   "execution_count": 77,
   "metadata": {},
   "outputs": [
    {
     "data": {
      "image/png": "[encoded data removed]",
      "text/plain": [
       "<Figure size 800x600 with 1 Axes>"
      ]
     },
     "metadata": {},
     "output_type": "display_data"
    }
   ],
   "source": [
    "resnet_fine_confusion_mat = confusion_matrix(test_labels_list, resnet_fine_predicted_labels)\n",
    "\n",
    "plt.figure(figsize=(8, 6))\n",
    "sns.heatmap(resnet_fine_confusion_mat, annot=True, fmt='d', cmap='Blues', cbar=False)\n",
    "plt.xlabel('Predicted Labels')\n",
    "plt.ylabel('True Labels')\n",
    "plt.title('Confusion Matrix', fontsize=16, fontweight='bold')\n",
    "plt.show()"
   ]
  },
  {
   "cell_type": "code",
   "execution_count": 83,
   "metadata": {},
   "outputs": [],
   "source": [
    "resnet_fine_path = \"/mnt/cloudNAS3/Adubois/Classes/ECE661/HW7/Results/Resnet_Fine_Results/\"\n",
    "# I only want to save 1 positive match example and 1 negative match example for each class\n",
    "# The class is therefore the first number, and the second number is for matching labels or not\n",
    "results_gotten = {\"01\": 0, \"00\": 0,\n",
    "                  \"11\": 0, \"10\": 0,\n",
    "                  \"21\": 0, \"20\": 0,\n",
    "                  \"31\": 0, \"30\": 0}\n",
    "\n",
    "for image_name, gram_matrix, test_label, pred_label in zip(test_progress_bar, test_resnet_fine_gram_matrices, test_labels_list, resnet_fine_predicted_labels):\n",
    "    encoding = str(test_label)\n",
    "    correct = \"\"\n",
    "    if test_label == pred_label:\n",
    "        encoding += \"1\"\n",
    "        correct = \"correct\"\n",
    "    else:\n",
    "        encoding += \"0\"\n",
    "        correct = \"false\"\n",
    "    \n",
    "    if results_gotten[encoding] == 0:\n",
    "        # New type of result to save\n",
    "        results_gotten[encoding] += 1\n",
    "        \n",
    "        # Convert the vgg_gram_matrix back from (N,1024) -> (N, 32,32) for display\n",
    "        gram_matrix = gram_matrix.reshape(32, 32)\n",
    "        \n",
    "        # Save the resize testing image\n",
    "        image_path = \"/mnt/cloudNAS3/Adubois/Classes/ECE661/HW7/HW7-Auxilliary/data/testing/\" + image_name\n",
    "        img = cv2.imread(image_path)\n",
    "        img_resized = cv2.resize(img, (128,128), interpolation=cv2.INTER_AREA)\n",
    "        cv2.imwrite(resnet_fine_path+image_name, img_resized)\n",
    "        \n",
    "        # Save the gram matrix to display for results section of the report\n",
    "        plt.figure(figsize=(8,6))\n",
    "        \n",
    "        # Use seaborn to create a heatmap\n",
    "        sns.heatmap(gram_matrix, cmap=\"viridis\", cbar=True)\n",
    "        plt.tight_layout()\n",
    "        # Save the heatmap to a file\n",
    "        plt.savefig(resnet_fine_path+image_name[:-4] + \"_gram_mat_\" + correct + \".png\", format='png', dpi=300, bbox_inches=\"tight\")\n",
    "        plt.close()"
   ]
  },
  {
   "cell_type": "markdown",
   "metadata": {},
   "source": [
    "# Bonus: Channel Normalization Parameter Based Texture Descriptor"
   ]
  },
  {
   "cell_type": "code",
   "execution_count": 89,
   "metadata": {},
   "outputs": [],
   "source": [
    "def get_normalization_params(feature_mat_list):\n",
    "    f_mats = np.array(feature_mat_list)\n",
    "    \n",
    "    means = f_mats.mean(axis=(2, 3))\n",
    "    variances = f_mats.std(axis=(2, 3))\n",
    "    \n",
    "    # I first stack the arrays together, and then reshape the final matrix to interleave the means and variances\n",
    "    mu_sigma_stacked = np.stack((means, variances), axis=-1)\n",
    "    channel_norm_params = mu_sigma_stacked.reshape(f_mats.shape[0], 2*f_mats.shape[1])\n",
    "    \n",
    "    return channel_norm_params"
   ]
  },
  {
   "cell_type": "code",
   "execution_count": 91,
   "metadata": {},
   "outputs": [],
   "source": [
    "vgg_norm_params = get_normalization_params(vgg_feature_list)\n",
    "resnet_coarse_norm_params = get_normalization_params(resnet_coarse_feature_list)\n",
    "resnet_fine_norm_params = get_normalization_params(resnet_fine_feature_list)\n",
    "test_vgg_norm_params = get_normalization_params(test_vgg_feature_list)\n",
    "test_resnet_coarse_norm_params = get_normalization_params(test_resnet_coarse_feature_list)\n",
    "test_resnet_fine_norm_params = get_normalization_params(test_resnet_fine_feature_list)"
   ]
  },
  {
   "cell_type": "code",
   "execution_count": 104,
   "metadata": {},
   "outputs": [
    {
     "data": {
      "text/plain": [
       "(923, 1024)"
      ]
     },
     "execution_count": 104,
     "metadata": {},
     "output_type": "execute_result"
    }
   ],
   "source": [
    "vgg_norm_params.shape"
   ]
  },
  {
   "cell_type": "markdown",
   "metadata": {},
   "source": [
    "# Channel Norm Params VGG"
   ]
  },
  {
   "cell_type": "code",
   "execution_count": 92,
   "metadata": {},
   "outputs": [
    {
     "name": "stdout",
     "output_type": "stream",
     "text": [
      "Accuracy:  0.98\n",
      "              precision    recall  f1-score   support\n",
      "\n",
      "           0       0.96      0.98      0.97        50\n",
      "           1       1.00      1.00      1.00        50\n",
      "           2       0.98      0.94      0.96        50\n",
      "           3       0.98      1.00      0.99        50\n",
      "\n",
      "    accuracy                           0.98       200\n",
      "   macro avg       0.98      0.98      0.98       200\n",
      "weighted avg       0.98      0.98      0.98       200\n",
      "\n"
     ]
    }
   ],
   "source": [
    "# VGG SVM:\n",
    "svm = MySVM()\n",
    "svm.fit(vgg_norm_params, labels_list)\n",
    "vgg_norm_predicted_labels = svm.predict(test_vgg_norm_params)\n",
    "vgg_norm_accuracy, vgg_norm_class_report = svm.score(vgg_norm_predicted_labels, test_labels_list)\n",
    "print(\"Accuracy: \", vgg_norm_accuracy)\n",
    "print(vgg_norm_class_report)"
   ]
  },
  {
   "cell_type": "code",
   "execution_count": 93,
   "metadata": {},
   "outputs": [
    {
     "data": {
      "image/png": "[encoded data removed]",
      "text/plain": [
       "<Figure size 800x600 with 1 Axes>"
      ]
     },
     "metadata": {},
     "output_type": "display_data"
    }
   ],
   "source": [
    "vgg_norm_confusion_mat = confusion_matrix(test_labels_list, vgg_norm_predicted_labels)\n",
    "\n",
    "plt.figure(figsize=(8, 6))\n",
    "sns.heatmap(vgg_norm_confusion_mat, annot=True, fmt='d', cmap='Blues', cbar=False)\n",
    "plt.xlabel('Predicted Labels')\n",
    "plt.ylabel('True Labels')\n",
    "plt.title('Confusion Matrix', fontsize=16, fontweight='bold')\n",
    "plt.show()"
   ]
  },
  {
   "cell_type": "code",
   "execution_count": 95,
   "metadata": {},
   "outputs": [],
   "source": [
    "vgg_path = \"/mnt/cloudNAS3/Adubois/Classes/ECE661/HW7/Results/VGG_Bonus_Results/\"\n",
    "# I only want to save 1 positive match example and 1 negative match example for each class\n",
    "# The class is therefore the first number, and the second number is for matching labels or not\n",
    "results_gotten = {\"correct\": 0, \"false\": 0}\n",
    "\n",
    "for image_name, norm_params, test_label, pred_label in zip(test_progress_bar, test_vgg_norm_params, test_labels_list, vgg_norm_predicted_labels):\n",
    "    correct = \"\"\n",
    "    if test_label == pred_label:\n",
    "        encoding = \"correct\"\n",
    "    else:\n",
    "        encoding = \"false\"\n",
    "    \n",
    "    if results_gotten[encoding] == 0:\n",
    "        # New type of result to save\n",
    "        results_gotten[encoding] += 1\n",
    "        \n",
    "        # Convert the vgg_gram_matrix back from (N,1024) -> (N, 32,32) for display\n",
    "        norm_params = norm_params.reshape(32, 32)\n",
    "        \n",
    "        # Save the resize testing image\n",
    "        image_path = \"/mnt/cloudNAS3/Adubois/Classes/ECE661/HW7/HW7-Auxilliary/data/testing/\" + image_name\n",
    "        img = cv2.imread(image_path)\n",
    "        img_resized = cv2.resize(img, (128,128), interpolation=cv2.INTER_AREA)\n",
    "        cv2.imwrite(vgg_path+image_name, img_resized)\n",
    "        \n",
    "        # Save the gram matrix to display for results section of the report\n",
    "        plt.figure(figsize=(8,6))\n",
    "        \n",
    "        # Use seaborn to create a heatmap\n",
    "        sns.heatmap(norm_params, cmap=\"viridis\", cbar=True)\n",
    "        plt.tight_layout()\n",
    "        # Save the heatmap to a file\n",
    "        plt.savefig(vgg_path+image_name[:-4] + \"_gram_mat_\" + encoding + \".png\", format='png', dpi=300, bbox_inches=\"tight\")\n",
    "        plt.close()"
   ]
  },
  {
   "cell_type": "markdown",
   "metadata": {},
   "source": [
    "# Resnet Coarse Results"
   ]
  },
  {
   "cell_type": "code",
   "execution_count": 96,
   "metadata": {},
   "outputs": [
    {
     "name": "stdout",
     "output_type": "stream",
     "text": [
      "Accuracy:  0.93\n",
      "              precision    recall  f1-score   support\n",
      "\n",
      "           0       0.83      0.96      0.89        50\n",
      "           1       1.00      0.94      0.97        50\n",
      "           2       1.00      0.84      0.91        50\n",
      "           3       0.92      0.98      0.95        50\n",
      "\n",
      "    accuracy                           0.93       200\n",
      "   macro avg       0.94      0.93      0.93       200\n",
      "weighted avg       0.94      0.93      0.93       200\n",
      "\n"
     ]
    }
   ],
   "source": [
    "# VGG SVM:\n",
    "svm = MySVM()\n",
    "svm.fit(resnet_coarse_norm_params, labels_list)\n",
    "resnet_coarse_norm_predicted_labels = svm.predict(test_resnet_coarse_norm_params)\n",
    "resnet_coarse_norm_accuracy, resnet_coarse_norm_class_report = svm.score(resnet_coarse_norm_predicted_labels, test_labels_list)\n",
    "print(\"Accuracy: \", resnet_coarse_norm_accuracy)\n",
    "print(resnet_coarse_norm_class_report)"
   ]
  },
  {
   "cell_type": "code",
   "execution_count": 97,
   "metadata": {},
   "outputs": [
    {
     "data": {
      "image/png": "[encoded data removed]",
      "text/plain": [
       "<Figure size 800x600 with 1 Axes>"
      ]
     },
     "metadata": {},
     "output_type": "display_data"
    }
   ],
   "source": [
    "resnet_coarse_norm_confusion_mat = confusion_matrix(test_labels_list, resnet_coarse_norm_predicted_labels)\n",
    "\n",
    "plt.figure(figsize=(8, 6))\n",
    "sns.heatmap(resnet_coarse_norm_confusion_mat, annot=True, fmt='d', cmap='Blues', cbar=False)\n",
    "plt.xlabel('Predicted Labels')\n",
    "plt.ylabel('True Labels')\n",
    "plt.title('Confusion Matrix', fontsize=16, fontweight='bold')\n",
    "plt.show()"
   ]
  },
  {
   "cell_type": "code",
   "execution_count": 105,
   "metadata": {},
   "outputs": [],
   "source": [
    "vgg_path = \"/mnt/cloudNAS3/Adubois/Classes/ECE661/HW7/Results/Resnet_Coarse_Bonus_Results/\"\n",
    "# I only want to save 1 positive match example and 1 negative match example for each class\n",
    "# The class is therefore the first number, and the second number is for matching labels or not\n",
    "results_gotten = {\"correct\": 0, \"false\": 0}\n",
    "\n",
    "for image_name, norm_params, test_label, pred_label in zip(test_progress_bar, test_resnet_coarse_norm_params, test_labels_list, resnet_coarse_norm_predicted_labels):\n",
    "    correct = \"\"\n",
    "    if test_label == pred_label:\n",
    "        encoding = \"correct\"\n",
    "    else:\n",
    "        encoding = \"false\"\n",
    "    \n",
    "    if results_gotten[encoding] == 0:\n",
    "        # New type of result to save\n",
    "        results_gotten[encoding] += 1\n",
    "        \n",
    "        # Convert the Norm Params back from (N,2048) -> (N, 32,32) for display\n",
    "        # For this calculation, I need first downsample the image from 2048->1024 by taking only the even indices and then I can represent the matrix as (32,32)\n",
    "        norm_params = norm_params[::2] # Extract even indices\n",
    "        norm_params = norm_params.reshape(32, 32)\n",
    "        \n",
    "        # Save the resize testing image\n",
    "        image_path = \"/mnt/cloudNAS3/Adubois/Classes/ECE661/HW7/HW7-Auxilliary/data/testing/\" + image_name\n",
    "        img = cv2.imread(image_path)\n",
    "        img_resized = cv2.resize(img, (128,128), interpolation=cv2.INTER_AREA)\n",
    "        cv2.imwrite(vgg_path+image_name, img_resized)\n",
    "        \n",
    "        # Save the gram matrix to display for results section of the report\n",
    "        plt.figure(figsize=(8,6))\n",
    "        \n",
    "        # Use seaborn to create a heatmap\n",
    "        sns.heatmap(norm_params, cmap=\"viridis\", cbar=True)\n",
    "        plt.tight_layout()\n",
    "        # Save the heatmap to a file\n",
    "        plt.savefig(vgg_path+image_name[:-4] + \"_gram_mat_\" + encoding + \".png\", format='png', dpi=300, bbox_inches=\"tight\")\n",
    "        plt.close()"
   ]
  },
  {
   "cell_type": "markdown",
   "metadata": {},
   "source": [
    "# Resent Fine Results:"
   ]
  },
  {
   "cell_type": "code",
   "execution_count": 106,
   "metadata": {},
   "outputs": [
    {
     "name": "stdout",
     "output_type": "stream",
     "text": [
      "Accuracy:  0.915\n",
      "              precision    recall  f1-score   support\n",
      "\n",
      "           0       0.84      0.92      0.88        50\n",
      "           1       1.00      0.94      0.97        50\n",
      "           2       0.98      0.82      0.89        50\n",
      "           3       0.88      0.98      0.92        50\n",
      "\n",
      "    accuracy                           0.92       200\n",
      "   macro avg       0.92      0.91      0.92       200\n",
      "weighted avg       0.92      0.92      0.92       200\n",
      "\n"
     ]
    }
   ],
   "source": [
    "# VGG SVM:\n",
    "svm = MySVM()\n",
    "svm.fit(resnet_fine_norm_params, labels_list)\n",
    "resnet_fine_norm_predicted_labels = svm.predict(test_resnet_fine_norm_params)\n",
    "resnet_fine_norm_accuracy, resnet_fine_norm_class_report = svm.score(resnet_fine_norm_predicted_labels, test_labels_list)\n",
    "print(\"Accuracy: \", resnet_fine_norm_accuracy)\n",
    "print(resnet_fine_norm_class_report)"
   ]
  },
  {
   "cell_type": "code",
   "execution_count": 107,
   "metadata": {},
   "outputs": [
    {
     "data": {
      "image/png": "[encoded data removed]",
      "text/plain": [
       "<Figure size 800x600 with 1 Axes>"
      ]
     },
     "metadata": {},
     "output_type": "display_data"
    }
   ],
   "source": [
    "resnet_fine_norm_confusion_mat = confusion_matrix(test_labels_list, resnet_fine_norm_predicted_labels)\n",
    "\n",
    "plt.figure(figsize=(8, 6))\n",
    "sns.heatmap(resnet_fine_norm_confusion_mat, annot=True, fmt='d', cmap='Blues', cbar=False)\n",
    "plt.xlabel('Predicted Labels')\n",
    "plt.ylabel('True Labels')\n",
    "plt.title('Confusion Matrix', fontsize=16, fontweight='bold')\n",
    "plt.show()"
   ]
  },
  {
   "cell_type": "code",
   "execution_count": 108,
   "metadata": {},
   "outputs": [],
   "source": [
    "vgg_path = \"/mnt/cloudNAS3/Adubois/Classes/ECE661/HW7/Results/Resnet_Fine_Bonus_Results/\"\n",
    "# I only want to save 1 positive match example and 1 negative match example for each class\n",
    "# The class is therefore the first number, and the second number is for matching labels or not\n",
    "results_gotten = {\"correct\": 0, \"false\": 0}\n",
    "\n",
    "for image_name, norm_params, test_label, pred_label in zip(test_progress_bar, test_resnet_fine_norm_params, test_labels_list, resnet_fine_norm_predicted_labels):\n",
    "    correct = \"\"\n",
    "    if test_label == pred_label:\n",
    "        encoding = \"correct\"\n",
    "    else:\n",
    "        encoding = \"false\"\n",
    "    \n",
    "    if results_gotten[encoding] == 0:\n",
    "        # New type of result to save\n",
    "        results_gotten[encoding] += 1\n",
    "        \n",
    "        # Convert the vgg_gram_matrix back from (N,1024) -> (N, 32,32) for display\n",
    "        norm_params = norm_params.reshape(32, 32)\n",
    "        \n",
    "        # Save the resize testing image\n",
    "        image_path = \"/mnt/cloudNAS3/Adubois/Classes/ECE661/HW7/HW7-Auxilliary/data/testing/\" + image_name\n",
    "        img = cv2.imread(image_path)\n",
    "        img_resized = cv2.resize(img, (128,128), interpolation=cv2.INTER_AREA)\n",
    "        cv2.imwrite(vgg_path+image_name, img_resized)\n",
    "        \n",
    "        # Save the gram matrix to display for results section of the report\n",
    "        plt.figure(figsize=(8,6))\n",
    "        \n",
    "        # Use seaborn to create a heatmap\n",
    "        sns.heatmap(norm_params, cmap=\"viridis\", cbar=True)\n",
    "        plt.tight_layout()\n",
    "        # Save the heatmap to a file\n",
    "        plt.savefig(vgg_path+image_name[:-4] + \"_gram_mat_\" + encoding + \".png\", format='png', dpi=300, bbox_inches=\"tight\")\n",
    "        plt.close()"
   ]
  },
  {
   "cell_type": "code",
   "execution_count": null,
   "metadata": {},
   "outputs": [],
   "source": []
  }
 ],
 "metadata": {
  "kernelspec": {
   "display_name": "ece661",
   "language": "python",
   "name": "python3"
  },
  "language_info": {
   "codemirror_mode": {
    "name": "ipython",
    "version": 3
   },
   "file_extension": ".py",
   "mimetype": "text/x-python",
   "name": "python",
   "nbconvert_exporter": "python",
   "pygments_lexer": "ipython3",
   "version": "3.8.1"
  }
 },
 "nbformat": 4,
 "nbformat_minor": 2
}
